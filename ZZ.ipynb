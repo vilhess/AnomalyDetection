{
 "cells": [
  {
   "cell_type": "code",
   "execution_count": 32,
   "metadata": {},
   "outputs": [],
   "source": [
    "import sys\n",
    "sys.path.append(\"/Users/samy/Desktop/thèse/code/AnomalyDetection/data\")\n",
    "sys.path.append(\"/Users/samy/Desktop/thèse/code/AnomalyDetection/algorithms/DeepOneClass\")\n",
    "\n",
    "import torch\n",
    "import json\n",
    "import os\n",
    "\n",
    "from mnist import load_datasets, prepare_data_loaders\n",
    "from model import CNN"
   ]
  },
  {
   "cell_type": "code",
   "execution_count": 38,
   "metadata": {},
   "outputs": [],
   "source": [
    "ANOMALY_DIGITS = 8\n",
    "NORMAL_DIGITS = [i for i in range(10)]\n",
    "NORMAL_DIGITS.remove(ANOMALY_DIGITS)"
   ]
  },
  {
   "cell_type": "code",
   "execution_count": 39,
   "metadata": {},
   "outputs": [],
   "source": [
    "checkpoint = torch.load(f\"models_infos/DeepOneClass/ONE/model_anomaly_{ANOMALY_DIGITS}.pkl\")\n",
    "center = checkpoint[\"center\"]\n",
    "center = torch.from_numpy(center)"
   ]
  },
  {
   "cell_type": "code",
   "execution_count": 40,
   "metadata": {},
   "outputs": [
    {
     "data": {
      "text/plain": [
       "<All keys matched successfully>"
      ]
     },
     "execution_count": 40,
     "metadata": {},
     "output_type": "execute_result"
    }
   ],
   "source": [
    "model = CNN()\n",
    "model.load_state_dict(checkpoint[\"model_state_dict\"])"
   ]
  },
  {
   "cell_type": "code",
   "execution_count": 41,
   "metadata": {},
   "outputs": [],
   "source": [
    "train_dic_dataset, val_dic_dataset, test_dic_dataset = load_datasets()\n",
    "normal_val = prepare_data_loaders(train_dic_dataset, val_dic_dataset, NORMAL_DIGITS, batch_size=None)"
   ]
  },
  {
   "cell_type": "code",
   "execution_count": 42,
   "metadata": {},
   "outputs": [
    {
     "name": "stdout",
     "output_type": "stream",
     "text": [
      "Digit : 0 , mean_score : 0.1264289915561676\n",
      "Digit : 1 , mean_score : 0.21490342915058136\n",
      "Digit : 2 , mean_score : 0.02075709030032158\n",
      "Digit : 3 , mean_score : 0.010045424103736877\n",
      "Digit : 4 , mean_score : 0.007852225564420223\n",
      "Digit : 5 , mean_score : 0.017882637679576874\n",
      "Digit : 6 , mean_score : 0.0011256918078288436\n",
      "Digit : 7 , mean_score : 0.00880887359380722\n",
      "Digit : 8 , mean_score : 0.0026839773636311293\n",
      "Digit : 9 , mean_score : 0.006968818139284849\n"
     ]
    }
   ],
   "source": [
    "with torch.no_grad():\n",
    "    for digit in range(10):\n",
    "        inputs = test_dic_dataset[digit]\n",
    "        preds = model(inputs)\n",
    "        current_batch_size = preds.size(0)\n",
    "        c_score = center.repeat(current_batch_size, 1)\n",
    "        dist = torch.sum((preds - c_score)**2, dim=1)\n",
    "        print(f\"Digit : {digit} , mean_score : {torch.mean(dist)*100}\")"
   ]
  },
  {
   "cell_type": "code",
   "execution_count": 15,
   "metadata": {},
   "outputs": [],
   "source": [
    "inputs_val = normal_val\n",
    "with torch.no_grad():\n",
    "    preds_val = model(inputs_val)"
   ]
  },
  {
   "cell_type": "code",
   "execution_count": null,
   "metadata": {},
   "outputs": [],
   "source": [
    "current_batch_size = preds_val.size(0)\n",
    "c_val = center.repeat(current_batch_size, 1)"
   ]
  }
 ],
 "metadata": {
  "language_info": {
   "name": "python"
  }
 },
 "nbformat": 4,
 "nbformat_minor": 2
}
